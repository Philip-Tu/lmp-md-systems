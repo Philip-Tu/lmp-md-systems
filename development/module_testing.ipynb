{
 "cells": [
  {
   "cell_type": "markdown",
   "metadata": {},
   "source": [
    "# Module Development and Testing: `lmp-md-systems` Repository"
   ]
  },
  {
   "cell_type": "markdown",
   "metadata": {},
   "source": [
    "## Imports"
   ]
  },
  {
   "cell_type": "code",
   "execution_count": 60,
   "metadata": {},
   "outputs": [],
   "source": [
    "import pandas as pd\n",
    "import numpy as np\n",
    "import matplotlib.pyplot as plt\n",
    "plt.style.use('default')\n",
    "plt.style.use('seaborn-paper')\n",
    "plt.style.use('seaborn-white')\n",
    "plt.style.use('seaborn-ticks')\n",
    "import json\n",
    "import re\n",
    "import sys\n",
    "sys.path.append(\"/Users/philip_ii/Desktop/lmp-md-systems/lib\")\n",
    "import pyrdf"
   ]
  },
  {
   "cell_type": "markdown",
   "metadata": {},
   "source": [
    "### `pylmps.py`"
   ]
  },
  {
   "cell_type": "markdown",
   "metadata": {},
   "source": [
    "#### `str_array_dict_to_json`"
   ]
  },
  {
   "cell_type": "code",
   "execution_count": 31,
   "metadata": {},
   "outputs": [],
   "source": [
    "def str_array_dict_to_json(str_arr_dict, to_file_path):\n",
    "    \"\"\" Saves a Python dictionary with the format <str: numpy array> to disk\n",
    "    as a .json file.\n",
    "    \n",
    "    All values (numpy arrays) of the dictionary are assumed to have the same size\n",
    "    as each array represents one column in the underlying dataframe encoded by the\n",
    "    passed-in Python dictionary.\n",
    "    \n",
    "    Args:\n",
    "        str_arr_dict (dict): data stored in the form of a Python dictionary with\n",
    "            the key-value pairs structured as followed:\n",
    "                <variable/column name> (str): <values/entries> (1-D numpy array)\n",
    "        to_file_path (str): absolute/relative path to the file where the Python\n",
    "            dictionary will be written to disk in JSON format. Should end with \".json\".\n",
    "    Returns:\n",
    "        None: output written to file.\n",
    "    \"\"\"\n",
    "    df = pd.DataFrame.from_dict(str_arr_dict)\n",
    "    df.to_json(to_file_path)"
   ]
  },
  {
   "cell_type": "code",
   "execution_count": 25,
   "metadata": {},
   "outputs": [
    {
     "data": {
      "text/plain": [
       "{'x': array([0, 1, 2, 3, 4, 5, 6, 7, 8, 9]),\n",
       " 'y': array([1., 1., 1., 1., 1., 1., 1., 1., 1., 1.])}"
      ]
     },
     "execution_count": 25,
     "metadata": {},
     "output_type": "execute_result"
    }
   ],
   "source": [
    "test_dict = {}\n",
    "test_dict[\"x\"] = np.array(list(range(10)))\n",
    "test_dict[\"y\"] = np.ones(10)\n",
    "\n",
    "test_dict"
   ]
  },
  {
   "cell_type": "code",
   "execution_count": 30,
   "metadata": {},
   "outputs": [],
   "source": [
    "df = pd.DataFrame.from_dict(test_dict)\n",
    "df.to_json(\"./test.json\")"
   ]
  },
  {
   "cell_type": "code",
   "execution_count": 32,
   "metadata": {},
   "outputs": [],
   "source": [
    "str_arr_dict_to_json(test_dict, \"/Users/philip_ii/Desktop/test.json\")"
   ]
  },
  {
   "cell_type": "markdown",
   "metadata": {},
   "source": [
    "#### `read_json_to_dict`"
   ]
  },
  {
   "cell_type": "code",
   "execution_count": 40,
   "metadata": {},
   "outputs": [],
   "source": [
    "def read_json_to_dict(file_path, params=True):\n",
    "    \"\"\" Reads a JSON file to Python dictionary.\n",
    "    \n",
    "    Args:\n",
    "        file_path (str): absolute/relative path to the .json file.\n",
    "        params (bool): whether or not the parsed file is params.json.\n",
    "            If True: the file is structured like a simple Python dict.\n",
    "            If False: the file encodes a pandas DataFrame and is most\n",
    "                likely a product of calling pylmps.str_array_dict_to_json\n",
    "                or pandas.DataFrame.to_json.\n",
    "            \n",
    "            Defaults to True.\n",
    "    \n",
    "    Returns:\n",
    "        dict: Python dictionary equivalent of the json file with format:\n",
    "            <variable> (str): <value> (float or numpy array)\n",
    "    \"\"\"\n",
    "    if params:\n",
    "        with open(file_path, \"r\") as file:\n",
    "            output_dict = json.load(file)\n",
    "    else:\n",
    "        df = pd.read_json(path_or_buf=file_path)\n",
    "        output_dict = df.to_dict(orient='list')\n",
    "    return output_dict"
   ]
  },
  {
   "cell_type": "code",
   "execution_count": 21,
   "metadata": {},
   "outputs": [
    {
     "data": {
      "text/plain": [
       "{'lx': 35.3553390593274,\n",
       " 'ly': 35.3553390593274,\n",
       " 'rhoA': 0.08,\n",
       " 'rhoP': 0.004,\n",
       " 'f_active': 8,\n",
       " 'rcut': 1.12246204830937,\n",
       " 'dt': 0.005,\n",
       " 'ctA': 100,\n",
       " 'ctP': 5}"
      ]
     },
     "execution_count": 21,
     "metadata": {},
     "output_type": "execute_result"
    }
   ],
   "source": [
    "with open(\"/Users/philip_ii/nerschome/test/data/40563331/params.json\", \"r\") as file:\n",
    "    parameters = json.load(file)\n",
    "parameters"
   ]
  },
  {
   "cell_type": "code",
   "execution_count": 35,
   "metadata": {},
   "outputs": [
    {
     "data": {
      "text/plain": [
       "{'lx': 35.3553390593274,\n",
       " 'ly': 35.3553390593274,\n",
       " 'rhoA': 0.08,\n",
       " 'rhoP': 0.004,\n",
       " 'f_active': 8,\n",
       " 'rcut': 1.12246204830937,\n",
       " 'dt': 0.005,\n",
       " 'ctA': 100,\n",
       " 'ctP': 5}"
      ]
     },
     "execution_count": 35,
     "metadata": {},
     "output_type": "execute_result"
    }
   ],
   "source": [
    "read_json_to_dict(\"/Users/philip_ii/nerschome/test/data/40563331/params.json\")"
   ]
  },
  {
   "cell_type": "code",
   "execution_count": 39,
   "metadata": {},
   "outputs": [
    {
     "data": {
      "text/plain": [
       "{'x': [0, 1, 2, 3, 4, 5, 6, 7, 8, 9], 'y': [1, 1, 1, 1, 1, 1, 1, 1, 1, 1]}"
      ]
     },
     "execution_count": 39,
     "metadata": {},
     "output_type": "execute_result"
    }
   ],
   "source": [
    "df1 = pd.read_json(path_or_buf=\"/Users/philip_ii/Desktop/test.json\")\n",
    "df1.to_dict(orient='list')"
   ]
  },
  {
   "cell_type": "code",
   "execution_count": 44,
   "metadata": {},
   "outputs": [
    {
     "data": {
      "text/plain": [
       "{'x': [0, 1, 2, 3, 4, 5, 6, 7, 8, 9], 'y': [1, 1, 1, 1, 1, 1, 1, 1, 1, 1]}"
      ]
     },
     "execution_count": 44,
     "metadata": {},
     "output_type": "execute_result"
    }
   ],
   "source": [
    "read_json_to_dict(\"../../test.json\", params=False)"
   ]
  },
  {
   "cell_type": "markdown",
   "metadata": {},
   "source": [
    "### `pyrdf.py`"
   ]
  },
  {
   "cell_type": "markdown",
   "metadata": {},
   "source": [
    "#### `read_rdf_arrays`"
   ]
  },
  {
   "cell_type": "code",
   "execution_count": 7,
   "metadata": {},
   "outputs": [],
   "source": [
    "def read_rdf_arrays(file_path, num_bin=100, cumul=True):\n",
    "    \"\"\" Read RDF data from file into numpy arrays.\n",
    "    \n",
    "    It is assumed that there are four columns\n",
    "    in the .rdf file, that the same file records time-averaged, cumulative RDF data, and that it is \n",
    "    of proper format generated using lammps fix ave/time function.\n",
    "\n",
    "    @param FILE_PATH: A string representing the path from the CWD of this notebook to the .rdf\n",
    "        file to be parsed.\n",
    "\n",
    "    @return 2 numpy arrays ordered by:\n",
    "        1) r values corresponding to the center of each bin\n",
    "        2) radial distribution function g(r) densities\n",
    "    \"\"\"\n",
    "\n",
    "    file = open(file_path, 'r')\n",
    "\n",
    "    r_lst = []\n",
    "    rdf_lst = []\n",
    "    if not cumul:\n",
    "        one_rdf_scan = []\n",
    "\n",
    "    curr_ln = file.readline()\n",
    "    start_read = False\n",
    "    first_pass = True\n",
    "    curr_bin = 1\n",
    "\n",
    "    while curr_ln != '':\n",
    "        # process current line of text\n",
    "        curr_ln = curr_ln.rstrip('\\n')\n",
    "        curr_ln_split = re.split(r'\\s', curr_ln)\n",
    "        \n",
    "        # first line of data reached\n",
    "        if len(curr_ln_split) == 4:\n",
    "            start_read = True\n",
    "\n",
    "        if start_read:\n",
    "            # if the rdf data is cumulative with one scan only\n",
    "            if cumul:\n",
    "                r_lst.append(float(curr_ln_split[1]))\n",
    "                rdf_lst.append(float(curr_ln_split[2]))\n",
    "            # if the rdf data consist of multiple time-averaged scans\n",
    "            else:\n",
    "                # reset variables for next time scan\n",
    "                if curr_bin > num_bin:\n",
    "                    rdf_lst.append(one_rdf_scan)\n",
    "                    curr_ln_split = re.split(r'\\s', file.readline().rstrip('\\n'))\n",
    "                    one_rdf_scan = []\n",
    "                    curr_bin = 1\n",
    "                    first_pass = False\n",
    "                \n",
    "                one_rdf_scan.append(float(curr_ln_split[2]))\n",
    "                curr_bin += 1\n",
    "                \n",
    "                if first_pass:\n",
    "                    r_lst.append(float(curr_ln_split[1]))\n",
    "\n",
    "        curr_ln = file.readline()\n",
    "    \n",
    "    if not cumul:\n",
    "        rdf_lst.append(one_rdf_scan)\n",
    "    file.close()\n",
    "\n",
    "    r_arr = np.array(r_lst)\n",
    "    rdf_arr = np.array(rdf_lst)\n",
    "\n",
    "    return r_arr, rdf_arr"
   ]
  },
  {
   "cell_type": "code",
   "execution_count": 8,
   "metadata": {},
   "outputs": [],
   "source": [
    "r_arr, rdf_arr = read_rdf_arrays(\"/Users/philip_ii/Desktop/test/data/rdf_sample_mean.rdf\", cumul=False)"
   ]
  },
  {
   "cell_type": "markdown",
   "metadata": {},
   "source": [
    "#### `test_rdf_convergence`"
   ]
  },
  {
   "cell_type": "code",
   "execution_count": 56,
   "metadata": {},
   "outputs": [],
   "source": [
    "def test_rdf_convergence(bin_num, sample_mean_file):\n",
    "    \"\"\" Test the convergence of sample means of radial distribution function using\n",
    "    the Central Limit Theorem.\n",
    "    \"\"\"\n",
    "    r_arr, rdf_sample_means = read_rdf_arrays(sample_mean_file, cumul=False)\n",
    "    \n",
    "    num_scans = rdf_sample_means.shape[0]\n",
    "    running_var_lst = []\n",
    "    \n",
    "    for n in range(2, num_scans+1):\n",
    "        one_var_across_r = np.var(rdf_sample_means[:n], axis=0)\n",
    "        var_at_bin = one_var_across_r[bin_num-1]\n",
    "        running_var_lst.append(var_at_bin)\n",
    "    \n",
    "    running_var_arr = np.array(running_var_lst)\n",
    "    scan_num = np.arange(2, num_scans+1)\n",
    "    \n",
    "    return scan_num, running_var_arr"
   ]
  },
  {
   "cell_type": "code",
   "execution_count": 4,
   "metadata": {},
   "outputs": [],
   "source": [
    "r_arr, rdf_sample_means = read_rdf_arrays(\"/Users/philip_ii/Desktop/test/data/rdf_sample_mean.rdf\", cumul=False)"
   ]
  },
  {
   "cell_type": "code",
   "execution_count": 5,
   "metadata": {},
   "outputs": [
    {
     "data": {
      "text/plain": [
       "array([[0.       , 0.       , 0.       , 0.       , 0.       , 0.       ,\n",
       "        0.       , 0.       , 0.       , 0.       , 0.       , 0.       ,\n",
       "        0.       , 0.       , 0.       , 0.       , 0.       , 0.       ,\n",
       "        0.       , 0.       , 0.       , 0.       , 0.       , 0.       ,\n",
       "        0.       , 0.       , 0.       , 0.       , 0.       , 0.       ,\n",
       "        0.       , 0.0268769, 0.340181 , 0.770062 , 1.4695   , 1.9177   ,\n",
       "        2.60468  , 1.84331  , 1.48757  , 1.13976  , 1.33664  , 1.38724  ,\n",
       "        1.81277  , 1.16203  , 0.75877  , 1.01573  , 1.05493  , 1.13966  ,\n",
       "        0.829679 , 0.905478 , 0.701163 , 0.840336 , 1.02828  , 1.14589  ,\n",
       "        1.13766  , 1.35765  , 1.11061  , 1.32168  , 0.971338 , 0.807701 ,\n",
       "        0.800113 , 0.625958 , 0.555384 , 0.542716 , 0.747405 , 0.58393  ,\n",
       "        0.698716 , 1.06759  , 1.3021   , 1.41163  , 1.75399  , 2.25673  ,\n",
       "        1.8162   , 1.305    , 1.52746  , 1.4195   , 0.694614 , 0.595045 ,\n",
       "        0.392701 , 0.494881 , 0.493682 , 0.810875 , 0.535439 , 0.768789 ,\n",
       "        1.02019  , 1.04787  , 0.899878 , 0.991472 , 0.846903 , 1.24865  ,\n",
       "        1.4247   , 0.907853 , 0.917959 , 0.888966 , 0.780484 , 0.881822 ,\n",
       "        1.08634  , 1.06549  , 0.774574 , 1.39594  ],\n",
       "       [0.       , 0.       , 0.       , 0.       , 0.       , 0.       ,\n",
       "        0.       , 0.       , 0.       , 0.       , 0.       , 0.       ,\n",
       "        0.       , 0.       , 0.       , 0.       , 0.       , 0.       ,\n",
       "        0.       , 0.       , 0.       , 0.       , 0.       , 0.       ,\n",
       "        0.       , 0.       , 0.       , 0.       , 0.       , 0.       ,\n",
       "        0.       , 0.0996026, 0.303405 , 1.09266  , 1.96607  , 2.46902  ,\n",
       "        1.67005  , 2.41437  , 1.57683  , 1.88614  , 1.06489  , 0.873623 ,\n",
       "        0.979621 , 0.756751 , 0.594258 , 0.947866 , 0.881429 , 1.13861  ,\n",
       "        1.15518  , 0.954776 , 0.908257 , 1.06372  , 1.22938  , 1.37023  ,\n",
       "        1.24914  , 1.48686  , 0.974871 , 0.947524 , 0.658909 , 0.734883 ,\n",
       "        0.754016 , 0.676164 , 0.924312 , 1.19366  , 0.776746 , 0.984621 ,\n",
       "        1.36074  , 1.28672  , 1.15234  , 1.07915  , 1.22137  , 0.765477 ,\n",
       "        0.918404 , 0.960115 , 1.20192  , 1.46897  , 1.17375  , 1.74208  ,\n",
       "        1.42235  , 1.07684  , 0.63226  , 0.69844  , 1.04915  , 1.06104  ,\n",
       "        1.25947  , 1.27619  , 0.754792 , 0.742181 , 0.545845 , 0.395628 ,\n",
       "        0.54919  , 0.776682 , 1.0854   , 1.29483  , 1.03344  , 0.943356 ,\n",
       "        0.836042 , 0.721225 , 0.896423 , 1.02456  ],\n",
       "       [0.       , 0.       , 0.       , 0.       , 0.       , 0.       ,\n",
       "        0.       , 0.       , 0.       , 0.       , 0.       , 0.       ,\n",
       "        0.       , 0.       , 0.       , 0.       , 0.       , 0.       ,\n",
       "        0.       , 0.       , 0.       , 0.       , 0.       , 0.       ,\n",
       "        0.       , 0.       , 0.       , 0.       , 0.       , 0.       ,\n",
       "        0.       , 0.0505918, 0.545516 , 0.926155 , 2.35726  , 2.37784  ,\n",
       "        2.55829  , 1.58966  , 1.83812  , 0.901466 , 0.880438 , 1.07643  ,\n",
       "        1.17179  , 1.8146   , 1.32057  , 1.30468  , 0.938192 , 1.03692  ,\n",
       "        1.06688  , 1.26163  , 1.36091  , 1.44665  , 1.62305  , 1.05653  ,\n",
       "        0.986888 , 0.764517 , 0.50242  , 0.718871 , 0.911747 , 0.360745 ,\n",
       "        0.275759 , 0.200825 , 0.893236 , 0.93799  , 0.898739 , 1.13897  ,\n",
       "        1.16228  , 1.17236  , 1.2025   , 1.45606  , 1.66428  , 1.67792  ,\n",
       "        1.38688  , 1.49878  , 1.48735  , 0.864761 , 0.766875 , 1.0333   ,\n",
       "        0.902767 , 0.835659 , 0.744235 , 0.641612 , 0.630816 , 0.763421 ,\n",
       "        0.785033 , 0.675084 , 0.895847 , 0.824709 , 0.554285 , 0.736725 ,\n",
       "        0.706023 , 0.683067 , 0.679989 , 0.719589 , 0.648734 , 1.23017  ,\n",
       "        1.20813  , 1.45624  , 1.36056  , 1.34989  ],\n",
       "       [0.       , 0.       , 0.       , 0.       , 0.       , 0.       ,\n",
       "        0.       , 0.       , 0.       , 0.       , 0.       , 0.       ,\n",
       "        0.       , 0.       , 0.       , 0.       , 0.       , 0.       ,\n",
       "        0.       , 0.       , 0.       , 0.       , 0.       , 0.       ,\n",
       "        0.       , 0.       , 0.       , 0.       , 0.       , 0.       ,\n",
       "        0.       , 0.0964406, 0.557774 , 1.96381  , 3.33741  , 2.0664   ,\n",
       "        1.65777  , 1.78488  , 1.79285  , 0.9872   , 0.946839 , 0.77282  ,\n",
       "        1.2257   , 1.33605  , 1.27917  , 1.181    , 1.19095  , 1.18265  ,\n",
       "        1.16853  , 1.37633  , 1.79876  , 1.35189  , 1.45515  , 1.32834  ,\n",
       "        1.16873  , 0.803999 , 0.525337 , 0.662574 , 0.452042 , 0.438586 ,\n",
       "        0.370423 , 0.558746 , 0.529089 , 0.733294 , 0.947383 , 0.891101 ,\n",
       "        1.20646  , 1.34427  , 1.35954  , 1.11856  , 0.995319 , 0.855328 ,\n",
       "        1.04823  , 0.940465 , 1.14376  , 1.2071   , 1.34496  , 1.37901  ,\n",
       "        1.34115  , 1.19899  , 1.36103  , 0.573784 , 0.750943 , 0.724057 ,\n",
       "        0.730222 , 0.631399 , 0.56192  , 0.889593 , 0.649386 , 1.04722  ,\n",
       "        1.08187  , 0.849615 , 0.634764 , 0.705207 , 0.521201 , 0.829152 ,\n",
       "        1.38773  , 0.980191 , 0.973274 , 1.21175  ],\n",
       "       [0.       , 0.       , 0.       , 0.       , 0.       , 0.       ,\n",
       "        0.       , 0.       , 0.       , 0.       , 0.       , 0.       ,\n",
       "        0.       , 0.       , 0.       , 0.       , 0.       , 0.       ,\n",
       "        0.       , 0.       , 0.       , 0.       , 0.       , 0.       ,\n",
       "        0.       , 0.       , 0.       , 0.       , 0.       , 0.       ,\n",
       "        0.       , 0.       , 0.209932 , 1.3097   , 1.33092  , 2.4115   ,\n",
       "        1.47767  , 1.63614  , 2.31026  , 1.63777  , 1.50388  , 1.90325  ,\n",
       "        1.87487  , 1.73904  , 1.26014  , 1.36598  , 1.07742  , 0.530515 ,\n",
       "        0.403544 , 0.529202 , 1.35104  , 1.25712  , 1.14211  , 1.43539  ,\n",
       "        1.2062   , 1.26432  , 0.743934 , 1.10169  , 1.19268  , 0.521449 ,\n",
       "        0.514476 , 0.827592 , 0.931483 , 0.749764 , 0.876348 , 0.98158  ,\n",
       "        0.978052 , 0.849942 , 1.15161  , 1.42095  , 0.95788  , 0.892941 ,\n",
       "        0.725381 , 0.858479 , 0.881717 , 0.875315 , 1.40615  , 0.794893 ,\n",
       "        0.919262 , 0.760488 , 0.647107 , 0.771767 , 0.849338 , 0.771174 ,\n",
       "        0.67659  , 1.21154  , 1.00754  , 1.17076  , 0.936939 , 0.780684 ,\n",
       "        0.918985 , 1.28776  , 0.787129 , 0.947023 , 1.32013  , 1.35741  ,\n",
       "        1.05795  , 1.13036  , 0.808449 , 0.801826 ],\n",
       "       [0.       , 0.       , 0.       , 0.       , 0.       , 0.       ,\n",
       "        0.       , 0.       , 0.       , 0.       , 0.       , 0.       ,\n",
       "        0.       , 0.       , 0.       , 0.       , 0.       , 0.       ,\n",
       "        0.       , 0.       , 0.       , 0.       , 0.       , 0.       ,\n",
       "        0.       , 0.       , 0.       , 0.       , 0.       , 0.       ,\n",
       "        0.       , 0.0600777, 0.65278  , 1.63824  , 2.24467  , 1.98925  ,\n",
       "        1.80376  , 1.33733  , 1.77603  , 1.21162  , 0.650491 , 0.796821 ,\n",
       "        1.29718  , 1.42535  , 1.17509  , 1.16349  , 1.60756  , 1.30427  ,\n",
       "        1.08947  , 1.56245  , 1.39838  , 1.40411  , 1.62589  , 1.55361  ,\n",
       "        1.17696  , 0.799513 , 0.543848 , 0.452109 , 0.349035 , 0.344843 ,\n",
       "        0.865966 , 0.557936 , 0.595225 , 0.616438 , 1.0771   , 0.86677  ,\n",
       "        0.766865 , 1.24393  , 0.724118 , 0.869194 , 0.730419 , 0.964682 ,\n",
       "        0.676611 , 0.928946 , 0.943216 , 0.896423 , 1.19198  , 0.965824 ,\n",
       "        1.15526  , 1.34056  , 1.27442  , 1.62481  , 1.62865  , 1.31153  ,\n",
       "        1.09681  , 0.976222 , 0.932119 , 0.87138  , 0.599866 , 0.814627 ,\n",
       "        0.873311 , 0.822402 , 0.754288 , 0.94223  , 0.893261 , 1.2041   ,\n",
       "        1.19833  , 1.19217  , 0.978835 , 1.05459  ],\n",
       "       [0.       , 0.       , 0.       , 0.       , 0.       , 0.       ,\n",
       "        0.       , 0.       , 0.       , 0.       , 0.       , 0.       ,\n",
       "        0.       , 0.       , 0.       , 0.       , 0.       , 0.       ,\n",
       "        0.       , 0.       , 0.       , 0.       , 0.       , 0.       ,\n",
       "        0.       , 0.       , 0.       , 0.       , 0.       , 0.       ,\n",
       "        0.       , 0.0869546, 0.389216 , 1.13725  , 2.16094  , 1.65958  ,\n",
       "        1.70143  , 1.20187  , 1.29871  , 1.19901  , 1.64529  , 1.49644  ,\n",
       "        1.51396  , 1.72187  , 2.06591  , 1.72608  , 1.48654  , 1.17426  ,\n",
       "        0.831733 , 1.14191  , 0.773153 , 0.724294 , 0.922035 , 0.747485 ,\n",
       "        0.781286 , 0.928727 , 0.853233 , 0.489352 , 0.936434 , 1.25717  ,\n",
       "        1.03471  , 0.847836 , 0.719529 , 0.590557 , 0.66865  , 0.453154 ,\n",
       "        0.55418  , 0.76362  , 0.833899 , 1.09061  , 0.85969  , 0.921498 ,\n",
       "        0.60105  , 0.802919 , 0.832918 , 1.10156  , 1.10279  , 1.31411  ,\n",
       "        1.20728  , 1.57861  , 1.2472   , 1.02169  , 1.19765  , 1.3169   ,\n",
       "        1.36143  , 1.35075  , 1.16414  , 1.02619  , 1.04611  , 0.910334 ,\n",
       "        1.12644  , 0.959559 , 0.928188 , 1.26394  , 1.34964  , 0.998112 ,\n",
       "        0.974867 , 1.11708  , 1.00513  , 1.20774  ],\n",
       "       [0.       , 0.       , 0.       , 0.       , 0.       , 0.       ,\n",
       "        0.       , 0.       , 0.       , 0.       , 0.       , 0.       ,\n",
       "        0.       , 0.       , 0.       , 0.       , 0.       , 0.       ,\n",
       "        0.       , 0.       , 0.       , 0.       , 0.       , 0.       ,\n",
       "        0.       , 0.       , 0.       , 0.       , 0.       , 0.       ,\n",
       "        0.       , 0.       , 0.035244 , 0.912776 , 1.55611  , 2.71171  ,\n",
       "        2.53509  , 1.73043  , 1.46687  , 1.23684  , 1.58995  , 1.09923  ,\n",
       "        0.794477 , 0.824297 , 0.754294 , 0.959906 , 1.03887  , 0.897472 ,\n",
       "        1.23322  , 1.26868  , 1.53349  , 0.856775 , 1.4191   , 1.35348  ,\n",
       "        1.1532   , 1.34239  , 1.10973  , 0.621    , 0.972189 , 0.924881 ,\n",
       "        1.12444  , 1.09725  , 0.785665 , 0.529384 , 0.556693 , 0.893382 ,\n",
       "        0.870212 , 0.791656 , 1.17415  , 0.877792 , 0.67532  , 0.649158 ,\n",
       "        0.664246 , 0.71619  , 0.865673 , 1.06595  , 1.00644  , 1.02044  ,\n",
       "        1.16795  , 1.00855  , 1.01211  , 1.05469  , 1.14694  , 0.942348 ,\n",
       "        1.1528   , 1.14863  , 1.04554  , 0.917482 , 1.12208  , 1.23585  ,\n",
       "        1.21284  , 1.19414  , 1.30883  , 1.42906  , 1.17046  , 0.78952  ,\n",
       "        1.00428  , 1.09052  , 1.21697  , 1.66521  ],\n",
       "       [0.       , 0.       , 0.       , 0.       , 0.       , 0.       ,\n",
       "        0.       , 0.       , 0.       , 0.       , 0.       , 0.       ,\n",
       "        0.       , 0.       , 0.       , 0.       , 0.       , 0.       ,\n",
       "        0.       , 0.       , 0.       , 0.       , 0.       , 0.       ,\n",
       "        0.       , 0.       , 0.       , 0.       , 0.       , 0.       ,\n",
       "        0.       , 0.       , 0.616004 , 1.11941  , 2.15661  , 2.73977  ,\n",
       "        1.77647  , 1.55513  , 1.77603  , 0.791777 , 1.18293  , 1.24683  ,\n",
       "        1.66278  , 1.47801  , 1.01729  , 0.761795 , 0.73149  , 0.806257 ,\n",
       "        0.60275  , 0.511092 , 0.384604 , 0.603417 , 0.779746 , 0.504529 ,\n",
       "        0.539133 , 0.870401 , 1.50726  , 0.944059 , 1.38422  , 1.30739  ,\n",
       "        1.39855  , 1.06891  , 0.854988 , 0.609379 , 0.94275  , 1.10551  ,\n",
       "        1.30082  , 1.34427  , 0.868796 , 0.867761 , 0.629403 , 1.20986  ,\n",
       "        0.9974   , 1.15322  , 1.5522   , 1.1517   , 0.95306  , 1.00566  ,\n",
       "        0.893251 , 0.811855 , 0.996026 , 0.870148 , 0.931435 , 1.21491  ,\n",
       "        1.07441  , 1.11368  , 1.37371  , 1.20946  , 0.940316 , 0.918681 ,\n",
       "        1.29098  , 1.32531  , 0.94434  , 0.632237 , 0.612371 , 1.08937  ,\n",
       "        1.29741  , 1.63399  , 1.5542   , 1.09313  ]])"
      ]
     },
     "execution_count": 5,
     "metadata": {},
     "output_type": "execute_result"
    }
   ],
   "source": [
    "rdf_sample_means"
   ]
  },
  {
   "cell_type": "code",
   "execution_count": 51,
   "metadata": {},
   "outputs": [
    {
     "data": {
      "text/plain": [
       "array([[0.       , 0.       , 0.       , 0.       , 0.       , 0.       ,\n",
       "        0.       , 0.       , 0.       , 0.       , 0.       , 0.       ,\n",
       "        0.       , 0.       , 0.       , 0.       , 0.       , 0.       ,\n",
       "        0.       , 0.       , 0.       , 0.       , 0.       , 0.       ,\n",
       "        0.       , 0.       , 0.       , 0.       , 0.       , 0.       ,\n",
       "        0.       , 0.0268769, 0.340181 , 0.770062 , 1.4695   , 1.9177   ,\n",
       "        2.60468  , 1.84331  , 1.48757  , 1.13976  , 1.33664  , 1.38724  ,\n",
       "        1.81277  , 1.16203  , 0.75877  , 1.01573  , 1.05493  , 1.13966  ,\n",
       "        0.829679 , 0.905478 , 0.701163 , 0.840336 , 1.02828  , 1.14589  ,\n",
       "        1.13766  , 1.35765  , 1.11061  , 1.32168  , 0.971338 , 0.807701 ,\n",
       "        0.800113 , 0.625958 , 0.555384 , 0.542716 , 0.747405 , 0.58393  ,\n",
       "        0.698716 , 1.06759  , 1.3021   , 1.41163  , 1.75399  , 2.25673  ,\n",
       "        1.8162   , 1.305    , 1.52746  , 1.4195   , 0.694614 , 0.595045 ,\n",
       "        0.392701 , 0.494881 , 0.493682 , 0.810875 , 0.535439 , 0.768789 ,\n",
       "        1.02019  , 1.04787  , 0.899878 , 0.991472 , 0.846903 , 1.24865  ,\n",
       "        1.4247   , 0.907853 , 0.917959 , 0.888966 , 0.780484 , 0.881822 ,\n",
       "        1.08634  , 1.06549  , 0.774574 , 1.39594  ],\n",
       "       [0.       , 0.       , 0.       , 0.       , 0.       , 0.       ,\n",
       "        0.       , 0.       , 0.       , 0.       , 0.       , 0.       ,\n",
       "        0.       , 0.       , 0.       , 0.       , 0.       , 0.       ,\n",
       "        0.       , 0.       , 0.       , 0.       , 0.       , 0.       ,\n",
       "        0.       , 0.       , 0.       , 0.       , 0.       , 0.       ,\n",
       "        0.       , 0.0996026, 0.303405 , 1.09266  , 1.96607  , 2.46902  ,\n",
       "        1.67005  , 2.41437  , 1.57683  , 1.88614  , 1.06489  , 0.873623 ,\n",
       "        0.979621 , 0.756751 , 0.594258 , 0.947866 , 0.881429 , 1.13861  ,\n",
       "        1.15518  , 0.954776 , 0.908257 , 1.06372  , 1.22938  , 1.37023  ,\n",
       "        1.24914  , 1.48686  , 0.974871 , 0.947524 , 0.658909 , 0.734883 ,\n",
       "        0.754016 , 0.676164 , 0.924312 , 1.19366  , 0.776746 , 0.984621 ,\n",
       "        1.36074  , 1.28672  , 1.15234  , 1.07915  , 1.22137  , 0.765477 ,\n",
       "        0.918404 , 0.960115 , 1.20192  , 1.46897  , 1.17375  , 1.74208  ,\n",
       "        1.42235  , 1.07684  , 0.63226  , 0.69844  , 1.04915  , 1.06104  ,\n",
       "        1.25947  , 1.27619  , 0.754792 , 0.742181 , 0.545845 , 0.395628 ,\n",
       "        0.54919  , 0.776682 , 1.0854   , 1.29483  , 1.03344  , 0.943356 ,\n",
       "        0.836042 , 0.721225 , 0.896423 , 1.02456  ]])"
      ]
     },
     "execution_count": 51,
     "metadata": {},
     "output_type": "execute_result"
    }
   ],
   "source": [
    "rdf_sample_means[:2]"
   ]
  },
  {
   "cell_type": "code",
   "execution_count": 50,
   "metadata": {},
   "outputs": [
    {
     "data": {
      "text/plain": [
       "9"
      ]
     },
     "execution_count": 50,
     "metadata": {},
     "output_type": "execute_result"
    }
   ],
   "source": [
    "rdf_sample_means.shape[0]"
   ]
  },
  {
   "cell_type": "code",
   "execution_count": 53,
   "metadata": {},
   "outputs": [
    {
     "data": {
      "text/plain": [
       "array([0.        , 0.        , 0.        , 0.        , 0.        ,\n",
       "       0.        , 0.        , 0.        , 0.        , 0.        ,\n",
       "       0.        , 0.        , 0.        , 0.        , 0.        ,\n",
       "       0.        , 0.        , 0.        , 0.        , 0.        ,\n",
       "       0.        , 0.        , 0.        , 0.        , 0.        ,\n",
       "       0.        , 0.        , 0.        , 0.        , 0.        ,\n",
       "       0.        , 0.00155811, 0.03761585, 0.12791536, 0.32406309,\n",
       "       0.12257869, 0.18166197, 0.1056823 , 0.07636634, 0.10716966,\n",
       "       0.10534157, 0.12158443, 0.12293527, 0.13223291, 0.17020147,\n",
       "       0.07207324, 0.07000598, 0.05110271, 0.07196306, 0.1179264 ,\n",
       "       0.18890006, 0.08918793, 0.08233279, 0.1056791 , 0.04994378,\n",
       "       0.07394375, 0.10096994, 0.07559305, 0.09845172, 0.11851419,\n",
       "       0.11839404, 0.06939004, 0.02305827, 0.042262  , 0.02275095,\n",
       "       0.04549641, 0.07218267, 0.05020196, 0.04369556, 0.05276625,\n",
       "       0.15214053, 0.23806483, 0.14152114, 0.05687682, 0.07956365,\n",
       "       0.04424953, 0.05175777, 0.1023816 , 0.08536307, 0.09666713,\n",
       "       0.08994754, 0.08922863, 0.09901423, 0.05409858, 0.05082985,\n",
       "       0.05585429, 0.04794329, 0.02137641, 0.04360686, 0.0621157 ,\n",
       "       0.07128001, 0.04852871, 0.03965965, 0.0729399 , 0.08527332,\n",
       "       0.03438222, 0.02633703, 0.06160951, 0.06086034, 0.05548471])"
      ]
     },
     "execution_count": 53,
     "metadata": {},
     "output_type": "execute_result"
    }
   ],
   "source": [
    "np.var(rdf_sample_means, axis=0)"
   ]
  },
  {
   "cell_type": "code",
   "execution_count": 55,
   "metadata": {},
   "outputs": [
    {
     "data": {
      "text/plain": [
       "array([2, 3, 4, 5, 6, 7, 8, 9])"
      ]
     },
     "execution_count": 55,
     "metadata": {},
     "output_type": "execute_result"
    }
   ],
   "source": [
    "np.arange(2, 10)"
   ]
  },
  {
   "cell_type": "code",
   "execution_count": 82,
   "metadata": {},
   "outputs": [],
   "source": [
    "# slurm-id: 41295478 12M steps\n",
    "scan_num, running_var = test_rdf_convergence(50, \"/Users/philip_ii/nersc/cscratch1/sd/p_yc_tu/test/data/41295478/rdf_sample_mean.rdf\")"
   ]
  },
  {
   "cell_type": "code",
   "execution_count": 83,
   "metadata": {},
   "outputs": [
    {
     "data": {
      "text/plain": [
       "array([0.01387943, 0.00947759, 0.01082975, 0.01327975, 0.01142414,\n",
       "       0.0178789 , 0.02045894, 0.04303609, 0.03905307, 0.03628363,\n",
       "       0.03432805, 0.03774173, 0.04204601, 0.04148195, 0.03939435,\n",
       "       0.03794023, 0.04242771, 0.04110792, 0.04130951, 0.03934242,\n",
       "       0.03775941, 0.03745649, 0.03600389, 0.03708994, 0.03600168,\n",
       "       0.03469679, 0.03495342, 0.0337856 , 0.03265981, 0.03216622,\n",
       "       0.03373678, 0.03305902, 0.03315663, 0.03231953, 0.0319945 ,\n",
       "       0.03150432, 0.03067876, 0.03012281, 0.02996908, 0.02944854,\n",
       "       0.02911566, 0.02959699, 0.02893924, 0.02866918, 0.02814065,\n",
       "       0.03110061, 0.03049203, 0.02988742, 0.03116984, 0.03326998,\n",
       "       0.03267803, 0.03206353, 0.03150037, 0.03190914, 0.03167289,\n",
       "       0.0311601 , 0.03065197, 0.03072781, 0.03022031, 0.03040762,\n",
       "       0.03023053, 0.03005494, 0.02959832, 0.02941161, 0.02935444,\n",
       "       0.02925311, 0.02882996, 0.02897443, 0.02862102, 0.0284303 ,\n",
       "       0.02836293, 0.02896944, 0.02858216, 0.02823279, 0.02789733,\n",
       "       0.02755235, 0.0277191 , 0.02861382, 0.03016133, 0.02984014,\n",
       "       0.03007178, 0.0297159 , 0.03071986, 0.03047341, 0.03095256,\n",
       "       0.03072199, 0.03037822, 0.03037977, 0.03042927, 0.0300967 ,\n",
       "       0.02977251, 0.02966082, 0.03085507, 0.03106615, 0.03203371,\n",
       "       0.03190651, 0.03211207, 0.03179135, 0.0321174 , 0.03770194,\n",
       "       0.03733469, 0.03786226, 0.03774644, 0.03739184, 0.03703975,\n",
       "       0.03736569, 0.03703625, 0.0367269 , 0.03641832, 0.03672198,\n",
       "       0.03664775, 0.03691571, 0.03661765, 0.03631599, 0.0361895 ,\n",
       "       0.03589022, 0.03642034, 0.03636073])"
      ]
     },
     "execution_count": 83,
     "metadata": {},
     "output_type": "execute_result"
    }
   ],
   "source": [
    "running_var"
   ]
  },
  {
   "cell_type": "code",
   "execution_count": 84,
   "metadata": {},
   "outputs": [
    {
     "data": {
      "text/plain": [
       "[<matplotlib.lines.Line2D at 0x7f8cfd50e880>]"
      ]
     },
     "execution_count": 84,
     "metadata": {},
     "output_type": "execute_result"
    },
    {
     "data": {
      "image/png": "[encoded data removed]",
      "text/plain": [
       "<Figure size 432x288 with 1 Axes>"
      ]
     },
     "metadata": {
      "needs_background": "light"
     },
     "output_type": "display_data"
    }
   ],
   "source": [
    "plt.plot(scan_num, running_var)"
   ]
  },
  {
   "cell_type": "code",
   "execution_count": 78,
   "metadata": {},
   "outputs": [
    {
     "data": {
      "text/plain": [
       "[<matplotlib.lines.Line2D at 0x7f8cfc310e20>]"
      ]
     },
     "execution_count": 78,
     "metadata": {},
     "output_type": "execute_result"
    },
    {
     "data": {
      "image/png": "[encoded data removed]",
      "text/plain": [
       "<Figure size 432x288 with 1 Axes>"
      ]
     },
     "metadata": {
      "needs_background": "light"
     },
     "output_type": "display_data"
    }
   ],
   "source": [
    "total_running_var = 0\n",
    "for b in range(60, 101):\n",
    "    temp_scan_num, running_var = test_rdf_convergence(b, \"/Users/philip_ii/nersc/cscratch1/sd/p_yc_tu/test/data/41295478/rdf_sample_mean.rdf\")\n",
    "    total_running_var += running_var\n",
    "\n",
    "total_running_var = total_running_var/41\n",
    "plt.plot(temp_scan_num, total_running_var)"
   ]
  },
  {
   "cell_type": "code",
   "execution_count": 3,
   "metadata": {},
   "outputs": [],
   "source": [
    "def extract_element_2D(idx, arr2d):\n",
    "    \"\"\"\"\"\"\n",
    "    if idx >= arr2d.shape[1]:\n",
    "        print(\"Invalid index. Index exceeds length of inner array(s).\")\n",
    "        return None\n",
    "    \n",
    "    extracted = [arr1d[idx] for arr1d in arr2d]\n",
    "    \n",
    "    return np.array(extracted)"
   ]
  },
  {
   "cell_type": "code",
   "execution_count": 4,
   "metadata": {},
   "outputs": [],
   "source": [
    "def calc_running_abs_error(at_bin, rdf_samples_file):\n",
    "    \"\"\"\"\"\"\n",
    "    r_arr, rdfs = read_rdf_arrays(rdf_samples_file, cumul=False)\n",
    "    \n",
    "    rdf_at_bin = extract_element_2D(at_bin-1, rdfs)\n",
    "    num_scans = len(rdf_at_bin)\n",
    "    scans = np.arange(1, num_scans+1)\n",
    "    \n",
    "    best_estimate = np.mean(rdf_at_bin)\n",
    "    running_avg = np.cumsum(rdf_at_bin) / scans\n",
    "    running_abs_error = np.abs(running_avg - best_estimate)\n",
    "    \n",
    "    return scans, running_abs_error"
   ]
  },
  {
   "cell_type": "code",
   "execution_count": 39,
   "metadata": {},
   "outputs": [],
   "source": [
    "def plot_rdf_convergence(Nfreq, at_bin, rdf_samples_file, xlim=(), ylim=(), refline_shift=2):\n",
    "    \"\"\" Test the convergence of sample means of radial distribution function using\n",
    "    the Central Limit Theorem.\n",
    "    \"\"\"\n",
    "    scans, running_abs_error = calc_running_abs_error(at_bin, rdf_samples_file)\n",
    "    \n",
    "    n = Nfreq*scans\n",
    "    refline = (10**refline_shift) * np.sqrt(1./n)\n",
    "    \n",
    "    plt.figure()\n",
    "    plt.plot(n, running_abs_error, label=r\"$\\epsilon(n)$\")    # = \\sum_{i=n_{min}}^ng_i(r)$\")\n",
    "    plt.plot(n, refline, label=r\"$\\propto 1/\\sqrt{n}$\")\n",
    "    plt.xscale('log')\n",
    "    plt.yscale('log')\n",
    "    plt.xlabel(\"Number of Timesteps (n)\")\n",
    "    plt.ylabel(r\"Absolute Error $\\epsilon(n)$\")\n",
    "    plt.title(\"Running Absolute Error of RDF at Bin {}\".format(at_bin))\n",
    "    plt.legend()\n",
    "    if xlim:\n",
    "        plt.xlim(xlim)\n",
    "    if ylim:\n",
    "        plt.ylim(ylim)"
   ]
  },
  {
   "cell_type": "code",
   "execution_count": 61,
   "metadata": {},
   "outputs": [
    {
     "name": "stdout",
     "output_type": "stream",
     "text": [
      "68\n"
     ]
    },
    {
     "data": {
      "image/png": "[encoded data removed]",
      "text/plain": [
       "<Figure size 640x440 with 1 Axes>"
      ]
     },
     "metadata": {},
     "output_type": "display_data"
    }
   ],
   "source": [
    "# Npassive = 20, 12M steps\n",
    "at_bin = int((20/29)*100)\n",
    "Nfreq = 100000\n",
    "rdf_samples_file = \"/Users/philip_ii/nersc/cscratch1/sd/p_yc_tu/test/data/41295478/rdf_sample_mean.rdf\"\n",
    "print(at_bin)\n",
    "\n",
    "plot_rdf_convergence(Nfreq, 65, rdf_samples_file, ylim=(1e-5, 1e0), refline_shift=1.2)"
   ]
  },
  {
   "cell_type": "code",
   "execution_count": 62,
   "metadata": {},
   "outputs": [
    {
     "data": {
      "image/png": "[encoded data removed]",
      "text/plain": [
       "<Figure size 640x440 with 1 Axes>"
      ]
     },
     "metadata": {},
     "output_type": "display_data"
    }
   ],
   "source": [
    "# Npassive = 45, 12M steps\n",
    "rdf_samples_file = \"/Users/philip_ii/nersc/cscratch1/sd/p_yc_tu/test/data/41450175/rdf_sample_mean.rdf\"\n",
    "\n",
    "plot_rdf_convergence(Nfreq, 65, rdf_samples_file, ylim=(1e-5, 1e0), refline_shift=1)"
   ]
  },
  {
   "cell_type": "code",
   "execution_count": null,
   "metadata": {},
   "outputs": [],
   "source": []
  },
  {
   "cell_type": "code",
   "execution_count": null,
   "metadata": {},
   "outputs": [],
   "source": []
  },
  {
   "cell_type": "code",
   "execution_count": null,
   "metadata": {},
   "outputs": [],
   "source": []
  },
  {
   "cell_type": "code",
   "execution_count": null,
   "metadata": {},
   "outputs": [],
   "source": []
  },
  {
   "cell_type": "code",
   "execution_count": null,
   "metadata": {},
   "outputs": [],
   "source": []
  },
  {
   "cell_type": "code",
   "execution_count": null,
   "metadata": {},
   "outputs": [],
   "source": []
  },
  {
   "cell_type": "code",
   "execution_count": null,
   "metadata": {},
   "outputs": [],
   "source": [
    "# RELATIVE ERROR"
   ]
  },
  {
   "cell_type": "code",
   "execution_count": 23,
   "metadata": {},
   "outputs": [],
   "source": [
    "r_arr, rdfs = read_rdf_arrays(rdf_samples_file, cumul=False)"
   ]
  },
  {
   "cell_type": "code",
   "execution_count": 27,
   "metadata": {},
   "outputs": [
    {
     "data": {
      "text/plain": [
       "[<matplotlib.lines.Line2D at 0x7fd2f3057250>]"
      ]
     },
     "execution_count": 27,
     "metadata": {},
     "output_type": "execute_result"
    },
    {
     "data": {
      "image/png": "[encoded data removed]",
      "text/plain": [
       "<Figure size 432x288 with 1 Axes>"
      ]
     },
     "metadata": {
      "needs_background": "light"
     },
     "output_type": "display_data"
    }
   ],
   "source": [
    "rdf = np.mean(rdfs, axis=0)\n",
    "plt.plot(r_arr, rdf)"
   ]
  },
  {
   "cell_type": "code",
   "execution_count": null,
   "metadata": {},
   "outputs": [],
   "source": []
  },
  {
   "cell_type": "code",
   "execution_count": null,
   "metadata": {},
   "outputs": [],
   "source": []
  },
  {
   "cell_type": "code",
   "execution_count": 17,
   "metadata": {},
   "outputs": [
    {
     "data": {
      "text/plain": [
       "array([1.39594 , 1.02456 , 1.34989 , 1.21175 , 0.801826, 1.05459 ,\n",
       "       1.20774 , 1.66521 , 1.09313 ])"
      ]
     },
     "execution_count": 17,
     "metadata": {},
     "output_type": "execute_result"
    }
   ],
   "source": [
    "extract_element_2D(99, rdf_sample_means)"
   ]
  },
  {
   "cell_type": "code",
   "execution_count": 6,
   "metadata": {},
   "outputs": [
    {
     "data": {
      "text/plain": [
       "array([[0.       , 0.       , 0.       , 0.       , 0.       , 0.       ,\n",
       "        0.       , 0.       , 0.       , 0.       , 0.       , 0.       ,\n",
       "        0.       , 0.       , 0.       , 0.       , 0.       , 0.       ,\n",
       "        0.       , 0.       , 0.       , 0.       , 0.       , 0.       ,\n",
       "        0.       , 0.       , 0.       , 0.       , 0.       , 0.       ,\n",
       "        0.       , 0.0268769, 0.340181 , 0.770062 , 1.4695   , 1.9177   ,\n",
       "        2.60468  , 1.84331  , 1.48757  , 1.13976  , 1.33664  , 1.38724  ,\n",
       "        1.81277  , 1.16203  , 0.75877  , 1.01573  , 1.05493  , 1.13966  ,\n",
       "        0.829679 , 0.905478 , 0.701163 , 0.840336 , 1.02828  , 1.14589  ,\n",
       "        1.13766  , 1.35765  , 1.11061  , 1.32168  , 0.971338 , 0.807701 ,\n",
       "        0.800113 , 0.625958 , 0.555384 , 0.542716 , 0.747405 , 0.58393  ,\n",
       "        0.698716 , 1.06759  , 1.3021   , 1.41163  , 1.75399  , 2.25673  ,\n",
       "        1.8162   , 1.305    , 1.52746  , 1.4195   , 0.694614 , 0.595045 ,\n",
       "        0.392701 , 0.494881 , 0.493682 , 0.810875 , 0.535439 , 0.768789 ,\n",
       "        1.02019  , 1.04787  , 0.899878 , 0.991472 , 0.846903 , 1.24865  ,\n",
       "        1.4247   , 0.907853 , 0.917959 , 0.888966 , 0.780484 , 0.881822 ,\n",
       "        1.08634  , 1.06549  , 0.774574 , 1.39594  ],\n",
       "       [0.       , 0.       , 0.       , 0.       , 0.       , 0.       ,\n",
       "        0.       , 0.       , 0.       , 0.       , 0.       , 0.       ,\n",
       "        0.       , 0.       , 0.       , 0.       , 0.       , 0.       ,\n",
       "        0.       , 0.       , 0.       , 0.       , 0.       , 0.       ,\n",
       "        0.       , 0.       , 0.       , 0.       , 0.       , 0.       ,\n",
       "        0.       , 0.0996026, 0.303405 , 1.09266  , 1.96607  , 2.46902  ,\n",
       "        1.67005  , 2.41437  , 1.57683  , 1.88614  , 1.06489  , 0.873623 ,\n",
       "        0.979621 , 0.756751 , 0.594258 , 0.947866 , 0.881429 , 1.13861  ,\n",
       "        1.15518  , 0.954776 , 0.908257 , 1.06372  , 1.22938  , 1.37023  ,\n",
       "        1.24914  , 1.48686  , 0.974871 , 0.947524 , 0.658909 , 0.734883 ,\n",
       "        0.754016 , 0.676164 , 0.924312 , 1.19366  , 0.776746 , 0.984621 ,\n",
       "        1.36074  , 1.28672  , 1.15234  , 1.07915  , 1.22137  , 0.765477 ,\n",
       "        0.918404 , 0.960115 , 1.20192  , 1.46897  , 1.17375  , 1.74208  ,\n",
       "        1.42235  , 1.07684  , 0.63226  , 0.69844  , 1.04915  , 1.06104  ,\n",
       "        1.25947  , 1.27619  , 0.754792 , 0.742181 , 0.545845 , 0.395628 ,\n",
       "        0.54919  , 0.776682 , 1.0854   , 1.29483  , 1.03344  , 0.943356 ,\n",
       "        0.836042 , 0.721225 , 0.896423 , 1.02456  ],\n",
       "       [0.       , 0.       , 0.       , 0.       , 0.       , 0.       ,\n",
       "        0.       , 0.       , 0.       , 0.       , 0.       , 0.       ,\n",
       "        0.       , 0.       , 0.       , 0.       , 0.       , 0.       ,\n",
       "        0.       , 0.       , 0.       , 0.       , 0.       , 0.       ,\n",
       "        0.       , 0.       , 0.       , 0.       , 0.       , 0.       ,\n",
       "        0.       , 0.0505918, 0.545516 , 0.926155 , 2.35726  , 2.37784  ,\n",
       "        2.55829  , 1.58966  , 1.83812  , 0.901466 , 0.880438 , 1.07643  ,\n",
       "        1.17179  , 1.8146   , 1.32057  , 1.30468  , 0.938192 , 1.03692  ,\n",
       "        1.06688  , 1.26163  , 1.36091  , 1.44665  , 1.62305  , 1.05653  ,\n",
       "        0.986888 , 0.764517 , 0.50242  , 0.718871 , 0.911747 , 0.360745 ,\n",
       "        0.275759 , 0.200825 , 0.893236 , 0.93799  , 0.898739 , 1.13897  ,\n",
       "        1.16228  , 1.17236  , 1.2025   , 1.45606  , 1.66428  , 1.67792  ,\n",
       "        1.38688  , 1.49878  , 1.48735  , 0.864761 , 0.766875 , 1.0333   ,\n",
       "        0.902767 , 0.835659 , 0.744235 , 0.641612 , 0.630816 , 0.763421 ,\n",
       "        0.785033 , 0.675084 , 0.895847 , 0.824709 , 0.554285 , 0.736725 ,\n",
       "        0.706023 , 0.683067 , 0.679989 , 0.719589 , 0.648734 , 1.23017  ,\n",
       "        1.20813  , 1.45624  , 1.36056  , 1.34989  ],\n",
       "       [0.       , 0.       , 0.       , 0.       , 0.       , 0.       ,\n",
       "        0.       , 0.       , 0.       , 0.       , 0.       , 0.       ,\n",
       "        0.       , 0.       , 0.       , 0.       , 0.       , 0.       ,\n",
       "        0.       , 0.       , 0.       , 0.       , 0.       , 0.       ,\n",
       "        0.       , 0.       , 0.       , 0.       , 0.       , 0.       ,\n",
       "        0.       , 0.0964406, 0.557774 , 1.96381  , 3.33741  , 2.0664   ,\n",
       "        1.65777  , 1.78488  , 1.79285  , 0.9872   , 0.946839 , 0.77282  ,\n",
       "        1.2257   , 1.33605  , 1.27917  , 1.181    , 1.19095  , 1.18265  ,\n",
       "        1.16853  , 1.37633  , 1.79876  , 1.35189  , 1.45515  , 1.32834  ,\n",
       "        1.16873  , 0.803999 , 0.525337 , 0.662574 , 0.452042 , 0.438586 ,\n",
       "        0.370423 , 0.558746 , 0.529089 , 0.733294 , 0.947383 , 0.891101 ,\n",
       "        1.20646  , 1.34427  , 1.35954  , 1.11856  , 0.995319 , 0.855328 ,\n",
       "        1.04823  , 0.940465 , 1.14376  , 1.2071   , 1.34496  , 1.37901  ,\n",
       "        1.34115  , 1.19899  , 1.36103  , 0.573784 , 0.750943 , 0.724057 ,\n",
       "        0.730222 , 0.631399 , 0.56192  , 0.889593 , 0.649386 , 1.04722  ,\n",
       "        1.08187  , 0.849615 , 0.634764 , 0.705207 , 0.521201 , 0.829152 ,\n",
       "        1.38773  , 0.980191 , 0.973274 , 1.21175  ],\n",
       "       [0.       , 0.       , 0.       , 0.       , 0.       , 0.       ,\n",
       "        0.       , 0.       , 0.       , 0.       , 0.       , 0.       ,\n",
       "        0.       , 0.       , 0.       , 0.       , 0.       , 0.       ,\n",
       "        0.       , 0.       , 0.       , 0.       , 0.       , 0.       ,\n",
       "        0.       , 0.       , 0.       , 0.       , 0.       , 0.       ,\n",
       "        0.       , 0.       , 0.209932 , 1.3097   , 1.33092  , 2.4115   ,\n",
       "        1.47767  , 1.63614  , 2.31026  , 1.63777  , 1.50388  , 1.90325  ,\n",
       "        1.87487  , 1.73904  , 1.26014  , 1.36598  , 1.07742  , 0.530515 ,\n",
       "        0.403544 , 0.529202 , 1.35104  , 1.25712  , 1.14211  , 1.43539  ,\n",
       "        1.2062   , 1.26432  , 0.743934 , 1.10169  , 1.19268  , 0.521449 ,\n",
       "        0.514476 , 0.827592 , 0.931483 , 0.749764 , 0.876348 , 0.98158  ,\n",
       "        0.978052 , 0.849942 , 1.15161  , 1.42095  , 0.95788  , 0.892941 ,\n",
       "        0.725381 , 0.858479 , 0.881717 , 0.875315 , 1.40615  , 0.794893 ,\n",
       "        0.919262 , 0.760488 , 0.647107 , 0.771767 , 0.849338 , 0.771174 ,\n",
       "        0.67659  , 1.21154  , 1.00754  , 1.17076  , 0.936939 , 0.780684 ,\n",
       "        0.918985 , 1.28776  , 0.787129 , 0.947023 , 1.32013  , 1.35741  ,\n",
       "        1.05795  , 1.13036  , 0.808449 , 0.801826 ],\n",
       "       [0.       , 0.       , 0.       , 0.       , 0.       , 0.       ,\n",
       "        0.       , 0.       , 0.       , 0.       , 0.       , 0.       ,\n",
       "        0.       , 0.       , 0.       , 0.       , 0.       , 0.       ,\n",
       "        0.       , 0.       , 0.       , 0.       , 0.       , 0.       ,\n",
       "        0.       , 0.       , 0.       , 0.       , 0.       , 0.       ,\n",
       "        0.       , 0.0600777, 0.65278  , 1.63824  , 2.24467  , 1.98925  ,\n",
       "        1.80376  , 1.33733  , 1.77603  , 1.21162  , 0.650491 , 0.796821 ,\n",
       "        1.29718  , 1.42535  , 1.17509  , 1.16349  , 1.60756  , 1.30427  ,\n",
       "        1.08947  , 1.56245  , 1.39838  , 1.40411  , 1.62589  , 1.55361  ,\n",
       "        1.17696  , 0.799513 , 0.543848 , 0.452109 , 0.349035 , 0.344843 ,\n",
       "        0.865966 , 0.557936 , 0.595225 , 0.616438 , 1.0771   , 0.86677  ,\n",
       "        0.766865 , 1.24393  , 0.724118 , 0.869194 , 0.730419 , 0.964682 ,\n",
       "        0.676611 , 0.928946 , 0.943216 , 0.896423 , 1.19198  , 0.965824 ,\n",
       "        1.15526  , 1.34056  , 1.27442  , 1.62481  , 1.62865  , 1.31153  ,\n",
       "        1.09681  , 0.976222 , 0.932119 , 0.87138  , 0.599866 , 0.814627 ,\n",
       "        0.873311 , 0.822402 , 0.754288 , 0.94223  , 0.893261 , 1.2041   ,\n",
       "        1.19833  , 1.19217  , 0.978835 , 1.05459  ],\n",
       "       [0.       , 0.       , 0.       , 0.       , 0.       , 0.       ,\n",
       "        0.       , 0.       , 0.       , 0.       , 0.       , 0.       ,\n",
       "        0.       , 0.       , 0.       , 0.       , 0.       , 0.       ,\n",
       "        0.       , 0.       , 0.       , 0.       , 0.       , 0.       ,\n",
       "        0.       , 0.       , 0.       , 0.       , 0.       , 0.       ,\n",
       "        0.       , 0.0869546, 0.389216 , 1.13725  , 2.16094  , 1.65958  ,\n",
       "        1.70143  , 1.20187  , 1.29871  , 1.19901  , 1.64529  , 1.49644  ,\n",
       "        1.51396  , 1.72187  , 2.06591  , 1.72608  , 1.48654  , 1.17426  ,\n",
       "        0.831733 , 1.14191  , 0.773153 , 0.724294 , 0.922035 , 0.747485 ,\n",
       "        0.781286 , 0.928727 , 0.853233 , 0.489352 , 0.936434 , 1.25717  ,\n",
       "        1.03471  , 0.847836 , 0.719529 , 0.590557 , 0.66865  , 0.453154 ,\n",
       "        0.55418  , 0.76362  , 0.833899 , 1.09061  , 0.85969  , 0.921498 ,\n",
       "        0.60105  , 0.802919 , 0.832918 , 1.10156  , 1.10279  , 1.31411  ,\n",
       "        1.20728  , 1.57861  , 1.2472   , 1.02169  , 1.19765  , 1.3169   ,\n",
       "        1.36143  , 1.35075  , 1.16414  , 1.02619  , 1.04611  , 0.910334 ,\n",
       "        1.12644  , 0.959559 , 0.928188 , 1.26394  , 1.34964  , 0.998112 ,\n",
       "        0.974867 , 1.11708  , 1.00513  , 1.20774  ],\n",
       "       [0.       , 0.       , 0.       , 0.       , 0.       , 0.       ,\n",
       "        0.       , 0.       , 0.       , 0.       , 0.       , 0.       ,\n",
       "        0.       , 0.       , 0.       , 0.       , 0.       , 0.       ,\n",
       "        0.       , 0.       , 0.       , 0.       , 0.       , 0.       ,\n",
       "        0.       , 0.       , 0.       , 0.       , 0.       , 0.       ,\n",
       "        0.       , 0.       , 0.035244 , 0.912776 , 1.55611  , 2.71171  ,\n",
       "        2.53509  , 1.73043  , 1.46687  , 1.23684  , 1.58995  , 1.09923  ,\n",
       "        0.794477 , 0.824297 , 0.754294 , 0.959906 , 1.03887  , 0.897472 ,\n",
       "        1.23322  , 1.26868  , 1.53349  , 0.856775 , 1.4191   , 1.35348  ,\n",
       "        1.1532   , 1.34239  , 1.10973  , 0.621    , 0.972189 , 0.924881 ,\n",
       "        1.12444  , 1.09725  , 0.785665 , 0.529384 , 0.556693 , 0.893382 ,\n",
       "        0.870212 , 0.791656 , 1.17415  , 0.877792 , 0.67532  , 0.649158 ,\n",
       "        0.664246 , 0.71619  , 0.865673 , 1.06595  , 1.00644  , 1.02044  ,\n",
       "        1.16795  , 1.00855  , 1.01211  , 1.05469  , 1.14694  , 0.942348 ,\n",
       "        1.1528   , 1.14863  , 1.04554  , 0.917482 , 1.12208  , 1.23585  ,\n",
       "        1.21284  , 1.19414  , 1.30883  , 1.42906  , 1.17046  , 0.78952  ,\n",
       "        1.00428  , 1.09052  , 1.21697  , 1.66521  ],\n",
       "       [0.       , 0.       , 0.       , 0.       , 0.       , 0.       ,\n",
       "        0.       , 0.       , 0.       , 0.       , 0.       , 0.       ,\n",
       "        0.       , 0.       , 0.       , 0.       , 0.       , 0.       ,\n",
       "        0.       , 0.       , 0.       , 0.       , 0.       , 0.       ,\n",
       "        0.       , 0.       , 0.       , 0.       , 0.       , 0.       ,\n",
       "        0.       , 0.       , 0.616004 , 1.11941  , 2.15661  , 2.73977  ,\n",
       "        1.77647  , 1.55513  , 1.77603  , 0.791777 , 1.18293  , 1.24683  ,\n",
       "        1.66278  , 1.47801  , 1.01729  , 0.761795 , 0.73149  , 0.806257 ,\n",
       "        0.60275  , 0.511092 , 0.384604 , 0.603417 , 0.779746 , 0.504529 ,\n",
       "        0.539133 , 0.870401 , 1.50726  , 0.944059 , 1.38422  , 1.30739  ,\n",
       "        1.39855  , 1.06891  , 0.854988 , 0.609379 , 0.94275  , 1.10551  ,\n",
       "        1.30082  , 1.34427  , 0.868796 , 0.867761 , 0.629403 , 1.20986  ,\n",
       "        0.9974   , 1.15322  , 1.5522   , 1.1517   , 0.95306  , 1.00566  ,\n",
       "        0.893251 , 0.811855 , 0.996026 , 0.870148 , 0.931435 , 1.21491  ,\n",
       "        1.07441  , 1.11368  , 1.37371  , 1.20946  , 0.940316 , 0.918681 ,\n",
       "        1.29098  , 1.32531  , 0.94434  , 0.632237 , 0.612371 , 1.08937  ,\n",
       "        1.29741  , 1.63399  , 1.5542   , 1.09313  ]])"
      ]
     },
     "execution_count": 6,
     "metadata": {},
     "output_type": "execute_result"
    }
   ],
   "source": [
    "rdf_sample_means"
   ]
  },
  {
   "cell_type": "code",
   "execution_count": null,
   "metadata": {},
   "outputs": [],
   "source": []
  },
  {
   "cell_type": "code",
   "execution_count": null,
   "metadata": {},
   "outputs": [],
   "source": []
  },
  {
   "cell_type": "code",
   "execution_count": null,
   "metadata": {},
   "outputs": [],
   "source": []
  },
  {
   "cell_type": "code",
   "execution_count": null,
   "metadata": {},
   "outputs": [],
   "source": []
  },
  {
   "cell_type": "code",
   "execution_count": null,
   "metadata": {},
   "outputs": [],
   "source": []
  }
 ],
 "metadata": {
  "kernelspec": {
   "display_name": "Python 3",
   "language": "python",
   "name": "python3"
  },
  "language_info": {
   "codemirror_mode": {
    "name": "ipython",
    "version": 3
   },
   "file_extension": ".py",
   "mimetype": "text/x-python",
   "name": "python",
   "nbconvert_exporter": "python",
   "pygments_lexer": "ipython3",
   "version": "3.8.5"
  }
 },
 "nbformat": 4,
 "nbformat_minor": 4
}
